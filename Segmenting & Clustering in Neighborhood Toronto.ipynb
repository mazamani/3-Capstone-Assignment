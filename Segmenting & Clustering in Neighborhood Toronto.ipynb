{
    "nbformat_minor": 1, 
    "cells": [
        {
            "execution_count": 221, 
            "cell_type": "code", 
            "metadata": {}, 
            "outputs": [], 
            "source": "import requests\nimport lxml.html as lh\nimport pandas as pd\n\nurl='https://en.wikipedia.org/wiki/List_of_postal_codes_of_Canada:_M'\npage = requests.get(url)\ndoc = lh.fromstring(page.content)\n\n"
        }, 
        {
            "execution_count": 222, 
            "cell_type": "code", 
            "metadata": {}, 
            "outputs": [
                {
                    "output_type": "stream", 
                    "name": "stdout", 
                    "text": "1 Postcode\n2 Borough\n3 Neighbourhood\n\n"
                }
            ], 
            "source": "tr_elements =doc.xpath('//tr')\ncol=[]\ni=0\nfor t in tr_elements[0]:\n    i+=1\n    name=t.text_content()\n    print(i,name)\n    col.append((name,[]))"
        }, 
        {
            "execution_count": 223, 
            "cell_type": "code", 
            "metadata": {}, 
            "outputs": [], 
            "source": "for j in range(1, len(tr_elements)):\n    T = tr_elements[j]\n    if len(T)!=3:\n        break\n       \n    i=0\n    for t in T.iterchildren():\n        data=t.text_content()\n        if i>0:\n              try:\n                data =int(data)\n              except:\n                 pass\n        col[i][1].append(data)\n        i+=1\n#[len(C) for (title, C) in col] \n"
        }, 
        {
            "execution_count": 224, 
            "cell_type": "code", 
            "metadata": {}, 
            "outputs": [
                {
                    "execution_count": 224, 
                    "metadata": {}, 
                    "data": {
                        "text/html": "<div>\n<style scoped>\n    .dataframe tbody tr th:only-of-type {\n        vertical-align: middle;\n    }\n\n    .dataframe tbody tr th {\n        vertical-align: top;\n    }\n\n    .dataframe thead th {\n        text-align: right;\n    }\n</style>\n<table border=\"1\" class=\"dataframe\">\n  <thead>\n    <tr style=\"text-align: right;\">\n      <th></th>\n      <th>Borough</th>\n      <th>Neighbourhood</th>\n      <th>Postcode</th>\n    </tr>\n  </thead>\n  <tbody>\n    <tr>\n      <th>0</th>\n      <td>Not assigned</td>\n      <td>Not assigned\\n</td>\n      <td>M1A</td>\n    </tr>\n    <tr>\n      <th>1</th>\n      <td>Not assigned</td>\n      <td>Not assigned\\n</td>\n      <td>M2A</td>\n    </tr>\n    <tr>\n      <th>2</th>\n      <td>North York</td>\n      <td>Parkwoods\\n</td>\n      <td>M3A</td>\n    </tr>\n    <tr>\n      <th>3</th>\n      <td>North York</td>\n      <td>Victoria Village\\n</td>\n      <td>M4A</td>\n    </tr>\n    <tr>\n      <th>4</th>\n      <td>Downtown Toronto</td>\n      <td>Harbourfront\\n</td>\n      <td>M5A</td>\n    </tr>\n  </tbody>\n</table>\n</div>", 
                        "text/plain": "            Borough     Neighbourhood\\n Postcode\n0      Not assigned      Not assigned\\n      M1A\n1      Not assigned      Not assigned\\n      M2A\n2        North York         Parkwoods\\n      M3A\n3        North York  Victoria Village\\n      M4A\n4  Downtown Toronto      Harbourfront\\n      M5A"
                    }, 
                    "output_type": "execute_result"
                }
            ], 
            "source": "Dict={title:column for (title,column) in col}\n\n\ndf=pd.DataFrame(Dict)\ndf.head()"
        }, 
        {
            "execution_count": 225, 
            "cell_type": "code", 
            "metadata": {}, 
            "outputs": [
                {
                    "execution_count": 225, 
                    "metadata": {}, 
                    "data": {
                        "text/plain": "['Borough', 'Neighbourhood\\n', 'Postcode']"
                    }, 
                    "output_type": "execute_result"
                }
            ], 
            "source": "cols=df.columns.tolist()\ncols\n"
        }, 
        {
            "execution_count": 226, 
            "cell_type": "code", 
            "metadata": {}, 
            "outputs": [
                {
                    "execution_count": 226, 
                    "metadata": {}, 
                    "data": {
                        "text/plain": "['Postcode', 'Borough', 'Neighbourhood\\n']"
                    }, 
                    "output_type": "execute_result"
                }
            ], 
            "source": "cols = cols[-1:] + cols[:-1]\ncols"
        }, 
        {
            "execution_count": 227, 
            "cell_type": "code", 
            "metadata": {}, 
            "outputs": [
                {
                    "execution_count": 227, 
                    "metadata": {}, 
                    "data": {
                        "text/html": "<div>\n<style scoped>\n    .dataframe tbody tr th:only-of-type {\n        vertical-align: middle;\n    }\n\n    .dataframe tbody tr th {\n        vertical-align: top;\n    }\n\n    .dataframe thead th {\n        text-align: right;\n    }\n</style>\n<table border=\"1\" class=\"dataframe\">\n  <thead>\n    <tr style=\"text-align: right;\">\n      <th></th>\n      <th>Postcode</th>\n      <th>Borough</th>\n      <th>Neighbourhood</th>\n    </tr>\n  </thead>\n  <tbody>\n    <tr>\n      <th>0</th>\n      <td>M1A</td>\n      <td>Not assigned</td>\n      <td>Not assigned\\n</td>\n    </tr>\n    <tr>\n      <th>1</th>\n      <td>M2A</td>\n      <td>Not assigned</td>\n      <td>Not assigned\\n</td>\n    </tr>\n    <tr>\n      <th>2</th>\n      <td>M3A</td>\n      <td>North York</td>\n      <td>Parkwoods\\n</td>\n    </tr>\n    <tr>\n      <th>3</th>\n      <td>M4A</td>\n      <td>North York</td>\n      <td>Victoria Village\\n</td>\n    </tr>\n    <tr>\n      <th>4</th>\n      <td>M5A</td>\n      <td>Downtown Toronto</td>\n      <td>Harbourfront\\n</td>\n    </tr>\n    <tr>\n      <th>5</th>\n      <td>M5A</td>\n      <td>Downtown Toronto</td>\n      <td>Regent Park\\n</td>\n    </tr>\n    <tr>\n      <th>6</th>\n      <td>M6A</td>\n      <td>North York</td>\n      <td>Lawrence Heights\\n</td>\n    </tr>\n    <tr>\n      <th>7</th>\n      <td>M6A</td>\n      <td>North York</td>\n      <td>Lawrence Manor\\n</td>\n    </tr>\n    <tr>\n      <th>8</th>\n      <td>M7A</td>\n      <td>Queen's Park</td>\n      <td>Not assigned\\n</td>\n    </tr>\n    <tr>\n      <th>9</th>\n      <td>M8A</td>\n      <td>Not assigned</td>\n      <td>Not assigned\\n</td>\n    </tr>\n  </tbody>\n</table>\n</div>", 
                        "text/plain": "  Postcode           Borough     Neighbourhood\\n\n0      M1A      Not assigned      Not assigned\\n\n1      M2A      Not assigned      Not assigned\\n\n2      M3A        North York         Parkwoods\\n\n3      M4A        North York  Victoria Village\\n\n4      M5A  Downtown Toronto      Harbourfront\\n\n5      M5A  Downtown Toronto       Regent Park\\n\n6      M6A        North York  Lawrence Heights\\n\n7      M6A        North York    Lawrence Manor\\n\n8      M7A      Queen's Park      Not assigned\\n\n9      M8A      Not assigned      Not assigned\\n"
                    }, 
                    "output_type": "execute_result"
                }
            ], 
            "source": "df=df[cols]\ndf.head(10)"
        }, 
        {
            "execution_count": 228, 
            "cell_type": "code", 
            "metadata": {}, 
            "outputs": [
                {
                    "execution_count": 228, 
                    "metadata": {}, 
                    "data": {
                        "text/html": "<div>\n<style scoped>\n    .dataframe tbody tr th:only-of-type {\n        vertical-align: middle;\n    }\n\n    .dataframe tbody tr th {\n        vertical-align: top;\n    }\n\n    .dataframe thead th {\n        text-align: right;\n    }\n</style>\n<table border=\"1\" class=\"dataframe\">\n  <thead>\n    <tr style=\"text-align: right;\">\n      <th></th>\n      <th>Postcode</th>\n      <th>Borough</th>\n      <th>Neighbourhood</th>\n    </tr>\n  </thead>\n  <tbody>\n    <tr>\n      <th>0</th>\n      <td>M1A</td>\n      <td>NaN</td>\n      <td>Not assigned\\n</td>\n    </tr>\n    <tr>\n      <th>1</th>\n      <td>M2A</td>\n      <td>NaN</td>\n      <td>Not assigned\\n</td>\n    </tr>\n    <tr>\n      <th>2</th>\n      <td>M3A</td>\n      <td>North York</td>\n      <td>Parkwoods\\n</td>\n    </tr>\n    <tr>\n      <th>3</th>\n      <td>M4A</td>\n      <td>North York</td>\n      <td>Victoria Village\\n</td>\n    </tr>\n    <tr>\n      <th>4</th>\n      <td>M5A</td>\n      <td>Downtown Toronto</td>\n      <td>Harbourfront\\n</td>\n    </tr>\n  </tbody>\n</table>\n</div>", 
                        "text/plain": "  Postcode           Borough     Neighbourhood\\n\n0      M1A               NaN      Not assigned\\n\n1      M2A               NaN      Not assigned\\n\n2      M3A        North York         Parkwoods\\n\n3      M4A        North York  Victoria Village\\n\n4      M5A  Downtown Toronto      Harbourfront\\n"
                    }, 
                    "output_type": "execute_result"
                }
            ], 
            "source": "import numpy as np\n\ndf.replace(\"Not assigned\", np.nan, inplace=True)\ndf.head()"
        }, 
        {
            "execution_count": 229, 
            "cell_type": "code", 
            "metadata": {}, 
            "outputs": [
                {
                    "execution_count": 229, 
                    "metadata": {}, 
                    "data": {
                        "text/html": "<div>\n<style scoped>\n    .dataframe tbody tr th:only-of-type {\n        vertical-align: middle;\n    }\n\n    .dataframe tbody tr th {\n        vertical-align: top;\n    }\n\n    .dataframe thead th {\n        text-align: right;\n    }\n</style>\n<table border=\"1\" class=\"dataframe\">\n  <thead>\n    <tr style=\"text-align: right;\">\n      <th></th>\n      <th>Postcode</th>\n      <th>Borough</th>\n      <th>Neighbourhood</th>\n    </tr>\n  </thead>\n  <tbody>\n    <tr>\n      <th>0</th>\n      <td>False</td>\n      <td>True</td>\n      <td>False</td>\n    </tr>\n    <tr>\n      <th>1</th>\n      <td>False</td>\n      <td>True</td>\n      <td>False</td>\n    </tr>\n    <tr>\n      <th>2</th>\n      <td>False</td>\n      <td>False</td>\n      <td>False</td>\n    </tr>\n    <tr>\n      <th>3</th>\n      <td>False</td>\n      <td>False</td>\n      <td>False</td>\n    </tr>\n    <tr>\n      <th>4</th>\n      <td>False</td>\n      <td>False</td>\n      <td>False</td>\n    </tr>\n  </tbody>\n</table>\n</div>", 
                        "text/plain": "   Postcode  Borough  Neighbourhood\\n\n0     False     True            False\n1     False     True            False\n2     False    False            False\n3     False    False            False\n4     False    False            False"
                    }, 
                    "output_type": "execute_result"
                }
            ], 
            "source": "missing_data =df.isnull()\nmissing_data.head()"
        }, 
        {
            "execution_count": 230, 
            "cell_type": "code", 
            "metadata": {}, 
            "outputs": [], 
            "source": "df.dropna(subset=[\"Borough\"],axis=0, inplace=True)"
        }, 
        {
            "execution_count": 231, 
            "cell_type": "code", 
            "metadata": {}, 
            "outputs": [], 
            "source": "df.reset_index(drop=True, inplace=True)"
        }, 
        {
            "execution_count": 287, 
            "cell_type": "code", 
            "metadata": {}, 
            "outputs": [
                {
                    "execution_count": 287, 
                    "metadata": {}, 
                    "data": {
                        "text/html": "<div>\n<style scoped>\n    .dataframe tbody tr th:only-of-type {\n        vertical-align: middle;\n    }\n\n    .dataframe tbody tr th {\n        vertical-align: top;\n    }\n\n    .dataframe thead th {\n        text-align: right;\n    }\n</style>\n<table border=\"1\" class=\"dataframe\">\n  <thead>\n    <tr style=\"text-align: right;\">\n      <th></th>\n      <th>Postcode</th>\n      <th>Borough</th>\n      <th>Neighbourhood</th>\n    </tr>\n  </thead>\n  <tbody>\n    <tr>\n      <th>0</th>\n      <td>M3A</td>\n      <td>North York</td>\n      <td>Parkwoods\\n</td>\n    </tr>\n    <tr>\n      <th>1</th>\n      <td>M4A</td>\n      <td>North York</td>\n      <td>Victoria Village\\n</td>\n    </tr>\n    <tr>\n      <th>2</th>\n      <td>M5A</td>\n      <td>Downtown Toronto</td>\n      <td>Harbourfront\\n</td>\n    </tr>\n    <tr>\n      <th>3</th>\n      <td>M5A</td>\n      <td>Downtown Toronto</td>\n      <td>Regent Park\\n</td>\n    </tr>\n    <tr>\n      <th>4</th>\n      <td>M6A</td>\n      <td>North York</td>\n      <td>Lawrence Heights\\n</td>\n    </tr>\n  </tbody>\n</table>\n</div>", 
                        "text/plain": "  Postcode           Borough     Neighbourhood\\n\n0      M3A        North York         Parkwoods\\n\n1      M4A        North York  Victoria Village\\n\n2      M5A  Downtown Toronto      Harbourfront\\n\n3      M5A  Downtown Toronto       Regent Park\\n\n4      M6A        North York  Lawrence Heights\\n"
                    }, 
                    "output_type": "execute_result"
                }
            ], 
            "source": "df.head()"
        }, 
        {
            "execution_count": 288, 
            "cell_type": "code", 
            "metadata": {}, 
            "outputs": [
                {
                    "execution_count": 288, 
                    "metadata": {}, 
                    "data": {
                        "text/plain": "{'M1B': Int64Index([8, 9], dtype='int64'),\n 'M1C': Int64Index([21, 22, 23], dtype='int64'),\n 'M1E': Int64Index([33, 34, 35], dtype='int64'),\n 'M1G': Int64Index([39], dtype='int64'),\n 'M1H': Int64Index([43], dtype='int64'),\n 'M1J': Int64Index([54], dtype='int64'),\n 'M1K': Int64Index([66, 67, 68], dtype='int64'),\n 'M1L': Int64Index([79, 80, 81], dtype='int64'),\n 'M1M': Int64Index([93, 94, 95], dtype='int64'),\n 'M1N': Int64Index([108, 109], dtype='int64'),\n 'M1P': Int64Index([117, 118, 119], dtype='int64'),\n 'M1R': Int64Index([127, 128], dtype='int64'),\n 'M1S': Int64Index([141], dtype='int64'),\n 'M1T': Int64Index([147, 148, 149], dtype='int64'),\n 'M1V': Int64Index([155, 156, 157, 158], dtype='int64'),\n 'M1W': Int64Index([182], dtype='int64'),\n 'M1X': Int64Index([188], dtype='int64'),\n 'M2H': Int64Index([44], dtype='int64'),\n 'M2J': Int64Index([55, 56, 57], dtype='int64'),\n 'M2K': Int64Index([69], dtype='int64'),\n 'M2L': Int64Index([82, 83], dtype='int64'),\n 'M2M': Int64Index([96, 97], dtype='int64'),\n 'M2N': Int64Index([110], dtype='int64'),\n 'M2P': Int64Index([120], dtype='int64'),\n 'M2R': Int64Index([129], dtype='int64'),\n 'M3A': Int64Index([0], dtype='int64'),\n 'M3B': Int64Index([10], dtype='int64'),\n 'M3C': Int64Index([24, 25], dtype='int64'),\n 'M3H': Int64Index([45, 46, 47], dtype='int64'),\n 'M3J': Int64Index([58, 59], dtype='int64'),\n 'M3K': Int64Index([70, 71], dtype='int64'),\n 'M3L': Int64Index([84], dtype='int64'),\n 'M3M': Int64Index([98], dtype='int64'),\n 'M3N': Int64Index([111], dtype='int64'),\n 'M4A': Int64Index([1], dtype='int64'),\n 'M4B': Int64Index([11, 12], dtype='int64'),\n 'M4C': Int64Index([26], dtype='int64'),\n 'M4E': Int64Index([36], dtype='int64'),\n 'M4G': Int64Index([40], dtype='int64'),\n 'M4H': Int64Index([48], dtype='int64'),\n 'M4J': Int64Index([60], dtype='int64'),\n 'M4K': Int64Index([72, 73], dtype='int64'),\n 'M4L': Int64Index([85, 86], dtype='int64'),\n 'M4M': Int64Index([99], dtype='int64'),\n 'M4N': Int64Index([112], dtype='int64'),\n 'M4P': Int64Index([121], dtype='int64'),\n 'M4R': Int64Index([130], dtype='int64'),\n 'M4S': Int64Index([142], dtype='int64'),\n 'M4T': Int64Index([150, 151], dtype='int64'),\n 'M4V': Int64Index([159, 160, 161, 162, 163], dtype='int64'),\n 'M4W': Int64Index([183], dtype='int64'),\n 'M4X': Int64Index([189, 190], dtype='int64'),\n 'M4Y': Int64Index([196], dtype='int64'),\n 'M5A': Int64Index([2, 3], dtype='int64'),\n 'M5B': Int64Index([13, 14], dtype='int64'),\n 'M5C': Int64Index([27], dtype='int64'),\n 'M5E': Int64Index([37], dtype='int64'),\n 'M5G': Int64Index([41], dtype='int64'),\n 'M5H': Int64Index([49, 50, 51], dtype='int64'),\n 'M5J': Int64Index([61, 62, 63], dtype='int64'),\n 'M5K': Int64Index([74, 75], dtype='int64'),\n 'M5L': Int64Index([87, 88], dtype='int64'),\n 'M5M': Int64Index([100, 101], dtype='int64'),\n 'M5N': Int64Index([113], dtype='int64'),\n 'M5P': Int64Index([122, 123], dtype='int64'),\n 'M5R': Int64Index([131, 132, 133], dtype='int64'),\n 'M5S': Int64Index([143, 144], dtype='int64'),\n 'M5T': Int64Index([152, 153, 154], dtype='int64'),\n 'M5V': Int64Index([164, 165, 166, 167, 168, 169, 170], dtype='int64'),\n 'M5W': Int64Index([184], dtype='int64'),\n 'M5X': Int64Index([191, 192], dtype='int64'),\n 'M6A': Int64Index([4, 5], dtype='int64'),\n 'M6B': Int64Index([15], dtype='int64'),\n 'M6C': Int64Index([28], dtype='int64'),\n 'M6E': Int64Index([38], dtype='int64'),\n 'M6G': Int64Index([42], dtype='int64'),\n 'M6H': Int64Index([52, 53], dtype='int64'),\n 'M6J': Int64Index([64, 65], dtype='int64'),\n 'M6K': Int64Index([76, 77, 78], dtype='int64'),\n 'M6L': Int64Index([89, 90, 91], dtype='int64'),\n 'M6M': Int64Index([102, 103, 104, 105], dtype='int64'),\n 'M6N': Int64Index([114, 115], dtype='int64'),\n 'M6P': Int64Index([124, 125], dtype='int64'),\n 'M6R': Int64Index([134, 135], dtype='int64'),\n 'M6S': Int64Index([145, 146], dtype='int64'),\n 'M7A': Int64Index([6], dtype='int64'),\n 'M7R': Int64Index([136], dtype='int64'),\n 'M7Y': Int64Index([197], dtype='int64'),\n 'M8V': Int64Index([171, 172, 173], dtype='int64'),\n 'M8W': Int64Index([185, 186], dtype='int64'),\n 'M8X': Int64Index([193, 194, 195], dtype='int64'),\n 'M8Y': Int64Index([198, 199, 200, 201, 202, 203, 204, 205], dtype='int64'),\n 'M8Z': Int64Index([206, 207, 208, 209, 210], dtype='int64'),\n 'M9A': Int64Index([7], dtype='int64'),\n 'M9B': Int64Index([16, 17, 18, 19, 20], dtype='int64'),\n 'M9C': Int64Index([29, 30, 31, 32], dtype='int64'),\n 'M9L': Int64Index([92], dtype='int64'),\n 'M9M': Int64Index([106, 107], dtype='int64'),\n 'M9N': Int64Index([116], dtype='int64'),\n 'M9P': Int64Index([126], dtype='int64'),\n 'M9R': Int64Index([137, 138, 139, 140], dtype='int64'),\n 'M9V': Int64Index([174, 175, 176, 177, 178, 179, 180, 181], dtype='int64'),\n 'M9W': Int64Index([187], dtype='int64')}"
                    }, 
                    "output_type": "execute_result"
                }
            ], 
            "source": "df_postcode=df.groupby('Postcode')  \ndf_postcode.groups"
        }, 
        {
            "execution_count": null, 
            "cell_type": "code", 
            "metadata": {}, 
            "outputs": [], 
            "source": ""
        }
    ], 
    "metadata": {
        "kernelspec": {
            "display_name": "Python 3.5", 
            "name": "python3", 
            "language": "python"
        }, 
        "language_info": {
            "mimetype": "text/x-python", 
            "nbconvert_exporter": "python", 
            "version": "3.5.5", 
            "name": "python", 
            "file_extension": ".py", 
            "pygments_lexer": "ipython3", 
            "codemirror_mode": {
                "version": 3, 
                "name": "ipython"
            }
        }
    }, 
    "nbformat": 4
}